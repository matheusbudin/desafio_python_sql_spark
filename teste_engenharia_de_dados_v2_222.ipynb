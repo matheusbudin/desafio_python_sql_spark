{
  "cells": [
    {
      "cell_type": "markdown",
      "metadata": {
        "id": "LVSy2BqsaSkj"
      },
      "source": [
        "# Setup Geral\n",
        "\n",
        "Se estiver executando este exercício no Google Colab, execute as próximas duas células.\n",
        "\n",
        "Caso esteja executando localmente, não é necessário executar mas certifique-se de que o **pyspark** está instalado e configurado em sua máquina."
      ]
    },
    {
      "cell_type": "code",
      "execution_count": 1,
      "metadata": {
        "id": "NHPXuknHZ5Az",
        "colab": {
          "base_uri": "https://localhost:8080/"
        },
        "outputId": "c0abb10e-ff9d-4d13-d838-b140b554e0f5"
      },
      "outputs": [
        {
          "output_type": "stream",
          "name": "stdout",
          "text": [
            "Hit:1 https://developer.download.nvidia.com/compute/cuda/repos/ubuntu2204/x86_64  InRelease\n",
            "Get:2 https://cloud.r-project.org/bin/linux/ubuntu jammy-cran40/ InRelease [3,626 B]\n",
            "Hit:3 http://archive.ubuntu.com/ubuntu jammy InRelease\n",
            "Get:4 http://archive.ubuntu.com/ubuntu jammy-updates InRelease [119 kB]\n",
            "Get:5 http://security.ubuntu.com/ubuntu jammy-security InRelease [110 kB]\n",
            "Hit:6 http://archive.ubuntu.com/ubuntu jammy-backports InRelease\n",
            "Hit:7 https://ppa.launchpadcontent.net/c2d4u.team/c2d4u4.0+/ubuntu jammy InRelease\n",
            "Get:8 http://archive.ubuntu.com/ubuntu jammy-updates/restricted amd64 Packages [1,614 kB]\n",
            "Hit:9 https://ppa.launchpadcontent.net/deadsnakes/ppa/ubuntu jammy InRelease\n",
            "Hit:10 https://ppa.launchpadcontent.net/graphics-drivers/ppa/ubuntu jammy InRelease\n",
            "Hit:11 https://ppa.launchpadcontent.net/ubuntugis/ppa/ubuntu jammy InRelease\n",
            "Get:12 http://archive.ubuntu.com/ubuntu jammy-updates/multiverse amd64 Packages [50.4 kB]\n",
            "Get:13 http://archive.ubuntu.com/ubuntu jammy-updates/main amd64 Packages [1,605 kB]\n",
            "Get:14 http://security.ubuntu.com/ubuntu jammy-security/universe amd64 Packages [1,047 kB]\n",
            "Get:15 http://archive.ubuntu.com/ubuntu jammy-updates/universe amd64 Packages [1,307 kB]\n",
            "Get:16 http://security.ubuntu.com/ubuntu jammy-security/multiverse amd64 Packages [44.6 kB]\n",
            "Get:17 http://security.ubuntu.com/ubuntu jammy-security/main amd64 Packages [1,332 kB]\n",
            "Fetched 7,234 kB in 3s (2,846 kB/s)\n",
            "Reading package lists...\n",
            "     ━━━━━━━━━━━━━━━━━━━━━━━━━━━━━━━━━━━━━━━━ 316.9/316.9 MB 2.8 MB/s eta 0:00:00\n"
          ]
        }
      ],
      "source": [
        "%%bash\n",
        "\n",
        "# Instal Java\n",
        "apt-get update && apt-get install openjdk-8-jdk-headless -qq > /dev/null\n",
        "\n",
        "# Install PySpark\n",
        "pip install -q pyspark"
      ]
    },
    {
      "cell_type": "code",
      "execution_count": 2,
      "metadata": {
        "id": "4dY12q0raXtc"
      },
      "outputs": [],
      "source": [
        "import os\n",
        "os.environ['JAVA_HOME'] = '/usr/lib/jvm/java-8-openjdk-amd64'\n",
        "\n",
        "from pyspark.sql import SparkSession\n",
        "\n",
        "spark = SparkSession.builder.master(\"local[*]\").getOrCreate()"
      ]
    },
    {
      "cell_type": "markdown",
      "metadata": {
        "id": "pZZMC5QPae-Z"
      },
      "source": [
        "# Teste\n",
        "\n",
        "O teste a ser realizado é composto de 3 partes:\n",
        "\n",
        "- um exercício de programação em Python\n",
        "- alguns exercícios de programação em SQL\n",
        "- alguns exercícios de programação com PySpark\n",
        "\n",
        "Você pode escolher qual das partes do exercício vai fazer primeiro. Todo o exercício deve ser completado no período de 48 horas."
      ]
    },
    {
      "cell_type": "markdown",
      "metadata": {
        "id": "YUB8S5fKciHv"
      },
      "source": [
        "# Python"
      ]
    },
    {
      "cell_type": "code",
      "execution_count": 3,
      "metadata": {
        "id": "2F8f5Z1scgUP"
      },
      "outputs": [],
      "source": [
        "# SETUP\n",
        "nomes_alunos = [\n",
        "    ('Maria', 1),\n",
        "    ('João', 2),\n",
        "    ('Pedro', 3),\n",
        "    ('Gabriella', 4),\n",
        "    ('Giovana', 5),\n",
        "    ('Arthur', 6)\n",
        "]\n",
        "\n",
        "notas_alunos = {\n",
        "    1: 9.5,\n",
        "    2: 5.1,\n",
        "    3: 8.7,\n",
        "    4: 7.1,\n",
        "    5: 4.8,\n",
        "    6: 6.3\n",
        "}"
      ]
    },
    {
      "cell_type": "markdown",
      "metadata": {
        "id": "ApIQ4JqjcsnC"
      },
      "source": [
        "Implemente uma função que recebe uma lista de nomes de alunos, um dicionário de notas dos mesmo, sendo que essas estruturas se relacionam por um ID.\n",
        "\n",
        "A função deve retornar em ordem alfabética, o nome dos alunos que obtiveram notas maior ou igual de uma nota de corte informada."
      ]
    },
    {
      "cell_type": "code",
      "source": [
        "def filtra_alunos_acima_corte(alunos, notas, nota_corte):\n",
        "  # Desenvolva aqui\n",
        "    # Primeiro, cria-se um dicionário para mapear IDs de alunos:\n",
        "    dicionario_estudantes = {id: name for name, id in alunos}\n",
        "\n",
        "    # Verifica-se que cada ID na lista de alunos corresponda a um ID no dicionário de notas\n",
        "    alunos_verificados = [id for nome, id in alunos if id in notas]\n",
        "\n",
        "    # Filtra-se as notas do dicionário para encontrar alunos com notas acima do corte:\n",
        "    alunos_aprovados = {id: nota for id, nota in notas.items() if nota >= nota_corte}\n",
        "\n",
        "    # Mapeia-se os estudantes aprovados, referenciando-se os nomes novamente:\n",
        "    nomes_alunos_aprovados = [dicionario_estudantes[id] for id in alunos_aprovados]\n",
        "\n",
        "    # Ordena em ordem alfabética e retorna a lista com o resultado\n",
        "    return sorted(nomes_alunos_aprovados)\n",
        "filtra_alunos_acima_corte(nomes_alunos, notas_alunos, 6)"
      ],
      "metadata": {
        "colab": {
          "base_uri": "https://localhost:8080/"
        },
        "id": "MkGwfRNSPkBW",
        "outputId": "dba43776-085a-4280-e370-9087bd79df76"
      },
      "execution_count": 10,
      "outputs": [
        {
          "output_type": "execute_result",
          "data": {
            "text/plain": [
              "['Arthur', 'Gabriella', 'Maria', 'Pedro']"
            ]
          },
          "metadata": {},
          "execution_count": 10
        }
      ]
    },
    {
      "cell_type": "markdown",
      "metadata": {
        "id": "4iYs_aWqdXrh"
      },
      "source": [
        "# SQL"
      ]
    },
    {
      "cell_type": "markdown",
      "metadata": {
        "id": "mbIq-A9-gXdw"
      },
      "source": [
        "**Setup**\n"
      ]
    },
    {
      "cell_type": "code",
      "execution_count": 11,
      "metadata": {
        "id": "DOG9FO83dlSe",
        "colab": {
          "base_uri": "https://localhost:8080/"
        },
        "outputId": "1beba41b-0862-45c0-c3c5-e1a84d656842"
      },
      "outputs": [
        {
          "output_type": "stream",
          "name": "stderr",
          "text": [
            "  % Total    % Received % Xferd  Average Speed   Time    Time     Time  Current\n",
            "                                 Dload  Upload   Total   Spent    Left  Speed\n",
            "\r  0     0    0     0    0     0      0      0 --:--:-- --:--:-- --:--:--     0\r100  1039  100  1039    0     0   3443      0 --:--:-- --:--:-- --:--:--  3451\n",
            "  % Total    % Received % Xferd  Average Speed   Time    Time     Time  Current\n",
            "                                 Dload  Upload   Total   Spent    Left  Speed\n",
            "\r  0     0    0     0    0     0      0      0 --:--:-- --:--:-- --:--:--     0\r 38  533k   38  207k    0     0   359k      0  0:00:01 --:--:--  0:00:01  359k\r100  533k  100  533k    0     0   859k      0 --:--:-- --:--:-- --:--:--  859k\n",
            "  % Total    % Received % Xferd  Average Speed   Time    Time     Time  Current\n",
            "                                 Dload  Upload   Total   Spent    Left  Speed\n",
            "\r  0     0    0     0    0     0      0      0 --:--:-- --:--:-- --:--:--     0\r100  211k  100  211k    0     0   472k      0 --:--:-- --:--:-- --:--:--  473k\n"
          ]
        }
      ],
      "source": [
        "%%bash\n",
        "mkdir bases_teste\n",
        "curl https://raw.githubusercontent.com/A3Data/bases_testes/main/bases_teste/produtos.csv -o bases_teste/produtos.csv\n",
        "curl https://raw.githubusercontent.com/A3Data/bases_testes/main/bases_teste/vendas.csv -o bases_teste/vendas.csv\n",
        "curl https://raw.githubusercontent.com/A3Data/bases_testes/main/bases_teste/usuarios.csv -o bases_teste/usuarios.csv"
      ]
    },
    {
      "cell_type": "code",
      "execution_count": 12,
      "metadata": {
        "id": "kHkTwPZmfV2t"
      },
      "outputs": [],
      "source": [
        "# Setup Spark Session\n",
        "from pyspark.sql import SparkSession\n",
        "spark = SparkSession.builder.appName(\"AtividadeSQL\").getOrCreate()"
      ]
    },
    {
      "cell_type": "code",
      "execution_count": 13,
      "metadata": {
        "id": "3kb1a6CwgSVd"
      },
      "outputs": [],
      "source": [
        "def cria_tabela(path, nome_tabela):\n",
        "    df = spark.read.csv(path, inferSchema=True, header=True)\n",
        "    df.createOrReplaceTempView(nome_tabela)\n",
        "    return df\n",
        "\n",
        "usuarios = cria_tabela(\"bases_teste/usuarios.csv\", \"usuarios\")\n",
        "produtos = cria_tabela(\"bases_teste/produtos.csv\", \"produtos\")\n",
        "vendas = cria_tabela(\"bases_teste/vendas.csv\", \"vendas\")"
      ]
    },
    {
      "cell_type": "markdown",
      "metadata": {
        "id": "6N5gLPYEg27q"
      },
      "source": [
        "**Função para execução de queries**"
      ]
    },
    {
      "cell_type": "code",
      "execution_count": 14,
      "metadata": {
        "id": "HtpEu2utg5Pb"
      },
      "outputs": [],
      "source": [
        "def q(query, n=30):\n",
        "    return spark.sql(query).show(n=n, truncate=False)"
      ]
    },
    {
      "cell_type": "markdown",
      "metadata": {
        "id": "s84UzyTqg9lH"
      },
      "source": [
        "Para executar alguma consulta, basta colocar seu código sql dentro da função q como no exemplo abaixo:\n",
        "\n",
        "```python\n",
        "q(\"\"\"\n",
        "    SELECT *\n",
        "    FROM usuarios\n",
        "\"\"\")\n",
        "```\n",
        "\n",
        "e o resultado será exibido na tela.\n",
        "\n",
        "---\n",
        "\n",
        "Nesta parte da atividade, você vai trabalhar com três tabelas:\n",
        "\n",
        "- produtos\n",
        "- usuarios\n",
        "- vendas\n",
        "\n",
        "Use-as para responder às perguntas a seguir."
      ]
    },
    {
      "cell_type": "markdown",
      "metadata": {
        "id": "Kxzvs2rVoxGk"
      },
      "source": [
        "1) Qual foi a quantidade de vendas nos estados de Minas Gerais e São Paulo para cada ano e mês?"
      ]
    },
    {
      "cell_type": "code",
      "source": [
        "#amostras de cada tabela\n",
        "q(\"\"\"\n",
        "SELECT * FROM usuarios LIMIT 3\n",
        "\"\"\")\n",
        "q(\"\"\"\n",
        "SELECT * FROM vendas LIMIT 3\n",
        "\"\"\")\n",
        "q(\"\"\"\n",
        "SELECT * FROM produtos LIMIT 3\n",
        "\"\"\")"
      ],
      "metadata": {
        "colab": {
          "base_uri": "https://localhost:8080/"
        },
        "id": "_m-wAZBVWcUE",
        "outputId": "e425854b-8b9f-49e9-8aed-9434311a35e3"
      },
      "execution_count": 29,
      "outputs": [
        {
          "output_type": "stream",
          "name": "stdout",
          "text": [
            "+-----------+-------------+------------------+---------+-------------------+\n",
            "|cod_usuario|data_cadastro|faixa_etaria      |cidade   |estado             |\n",
            "+-----------+-------------+------------------+---------+-------------------+\n",
            "|69         |2020-07-24   |Entre 16 a 21 anos|São Romão|Minas Gerais       |\n",
            "|176        |2021-03-19   |Entre 28 a 36 anos|Guanambi |Bahia              |\n",
            "|185        |2021-03-11   |Entre 16 a 21 anos|Martins  |Rio Grande do Norte|\n",
            "+-----------+-------------+------------------+---------+-------------------+\n",
            "\n",
            "+-----------+-----------+-----------+----------+-------+\n",
            "|cod_usuario|cod_produto|data_compra|quantidade|valor  |\n",
            "+-----------+-----------+-----------+----------+-------+\n",
            "|927        |10         |2020-10-19 |4         |2799.6 |\n",
            "|1544       |10         |2021-03-28 |2         |1399.8 |\n",
            "|2833       |2          |2020-09-13 |20        |26915.6|\n",
            "+-----------+-----------+-----------+----------+-------+\n",
            "\n",
            "+-----------+---------------------------+-----------------+-------------+\n",
            "|cod_produto|nome_produto               |categoria_produto|valor_produto|\n",
            "+-----------+---------------------------+-----------------+-------------+\n",
            "|1          |Notebook Asus Intel Core i7|Tecnologia       |4590.9       |\n",
            "|2          |Bicicleta Caloi Aro 29     |Lazer            |1345.78      |\n",
            "|3          |Smartphone Samsung         |Tecnologia       |2049.5       |\n",
            "+-----------+---------------------------+-----------------+-------------+\n",
            "\n"
          ]
        }
      ]
    },
    {
      "cell_type": "code",
      "execution_count": 31,
      "metadata": {
        "id": "eLe62-JehCDO",
        "colab": {
          "base_uri": "https://localhost:8080/"
        },
        "outputId": "105703ac-9590-4837-da30-200c18d9e85c"
      },
      "outputs": [
        {
          "output_type": "stream",
          "name": "stdout",
          "text": [
            "+----+---+------------+------------+\n",
            "|ano |mes|estado      |total_vendas|\n",
            "+----+---+------------+------------+\n",
            "|2018|6  |Minas Gerais|10          |\n",
            "|2018|7  |São Paulo   |9           |\n",
            "|2018|8  |Minas Gerais|16          |\n",
            "|2018|10 |Minas Gerais|20          |\n",
            "|2018|10 |São Paulo   |12          |\n",
            "|2018|11 |Minas Gerais|10          |\n",
            "|2018|12 |Minas Gerais|39          |\n",
            "|2019|1  |Minas Gerais|20          |\n",
            "|2019|2  |Minas Gerais|2           |\n",
            "|2019|4  |Minas Gerais|26          |\n",
            "|2019|5  |Minas Gerais|11          |\n",
            "|2019|6  |Minas Gerais|1           |\n",
            "|2019|6  |São Paulo   |10          |\n",
            "|2019|7  |Minas Gerais|14          |\n",
            "|2019|8  |Minas Gerais|15          |\n",
            "|2019|8  |São Paulo   |17          |\n",
            "|2019|9  |Minas Gerais|27          |\n",
            "|2019|10 |Minas Gerais|3           |\n",
            "|2019|11 |Minas Gerais|1           |\n",
            "|2019|12 |Minas Gerais|25          |\n",
            "|2020|1  |Minas Gerais|8           |\n",
            "|2020|1  |São Paulo   |6           |\n",
            "|2020|2  |Minas Gerais|10          |\n",
            "|2020|3  |Minas Gerais|14          |\n",
            "|2020|3  |São Paulo   |1           |\n",
            "|2020|4  |Minas Gerais|1           |\n",
            "|2020|4  |São Paulo   |9           |\n",
            "|2020|5  |Minas Gerais|44          |\n",
            "|2020|6  |Minas Gerais|18          |\n",
            "|2020|6  |São Paulo   |13          |\n",
            "+----+---+------------+------------+\n",
            "only showing top 30 rows\n",
            "\n"
          ]
        }
      ],
      "source": [
        "q(\"\"\"\n",
        "SELECT\n",
        "YEAR(vendas.data_compra) AS ano\n",
        ",MONTH(vendas.data_compra) AS mes\n",
        ",usuarios.estado\n",
        ",SUM(vendas.quantidade) AS total_vendas\n",
        "\n",
        "FROM vendas AS vendas\n",
        "INNER JOIN usuarios AS usuarios ON vendas.cod_usuario = usuarios.cod_usuario\n",
        "WHERE usuarios.estado IN ('Minas Gerais', 'São Paulo')\n",
        "GROUP BY YEAR(vendas.data_compra), MONTH(vendas.data_compra), usuarios.estado\n",
        "ORDER BY ano, mes, usuarios.estado\n",
        "\"\"\")"
      ]
    },
    {
      "cell_type": "markdown",
      "metadata": {
        "id": "xzD4NiqHplgI"
      },
      "source": [
        "2) Quais são os usuários por Estado que mais compraram em todo o período analisado e qual foi o número de compras realizadas, a quantidade total de itens comprados e valor total pago por usuário?"
      ]
    },
    {
      "cell_type": "code",
      "execution_count": 32,
      "metadata": {
        "id": "bVV3Gnthp5hT",
        "colab": {
          "base_uri": "https://localhost:8080/"
        },
        "outputId": "e4dbe9ad-2c01-4ee0-f243-5d289fc638a2"
      },
      "outputs": [
        {
          "output_type": "stream",
          "name": "stdout",
          "text": [
            "+-------------------+-----------+-------------+-----------+-----------+\n",
            "|estado             |cod_usuario|total_compras|total_itens|valor_total|\n",
            "+-------------------+-----------+-------------+-----------+-----------+\n",
            "|Amapá              |2186       |7            |61         |51359.34   |\n",
            "|Bahia              |2981       |9            |70         |126282.4   |\n",
            "|Ceará              |1787       |8            |79         |121494.67  |\n",
            "|Goiás              |700        |9            |74         |142389.09  |\n",
            "|Maranhão           |2811       |13           |117        |184101.89  |\n",
            "|Mato Grosso        |2340       |9            |112        |165197.3   |\n",
            "|Mato Grosso do Sul |679        |6            |102        |152271.96  |\n",
            "|Minas Gerais       |3090       |9            |93         |95697.3    |\n",
            "|Paraná             |2843       |10           |114        |137228.01  |\n",
            "|Paraíba            |464        |6            |73         |73556.1    |\n",
            "|Pernambuco         |2646       |7            |84         |135556.7   |\n",
            "|Piauí              |1974       |5            |77         |139997.47  |\n",
            "|Rio Grande do Norte|3403       |10           |94         |136347.01  |\n",
            "|Rio Grande do Sul  |28         |9            |76         |29114.45   |\n",
            "|Santa Catarina     |2551       |9            |88         |187513.66  |\n",
            "|São Paulo          |1756       |8            |73         |134413.0   |\n",
            "|Tocantins          |1752       |8            |80         |97028.45   |\n",
            "+-------------------+-----------+-------------+-----------+-----------+\n",
            "\n"
          ]
        }
      ],
      "source": [
        "q(\"\"\"\n",
        "WITH vendas_por_usuario AS (\n",
        "    SELECT\n",
        "    usuarios.cod_usuario\n",
        "    ,usuarios.estado\n",
        "    ,COUNT(*) AS total_compras\n",
        "    ,SUM(vendas.quantidade) AS total_itens\n",
        "    ,ROUND(SUM(vendas.valor),2) AS valor_total\n",
        "    FROM vendas\n",
        "    JOIN usuarios ON vendas.cod_usuario = usuarios.cod_usuario\n",
        "    GROUP BY usuarios.cod_usuario, usuarios.estado\n",
        ")\n",
        "SELECT estado, cod_usuario, total_compras, total_itens, valor_total\n",
        "FROM (\n",
        "    SELECT *,\n",
        "           RANK() OVER (PARTITION BY estado ORDER BY total_compras DESC, total_itens DESC, valor_total DESC) as rank\n",
        "    FROM vendas_por_usuario\n",
        ") ranked\n",
        "WHERE ranked.rank = 1\n",
        "ORDER BY estado\n",
        "\"\"\")"
      ]
    },
    {
      "cell_type": "markdown",
      "metadata": {
        "id": "Rx53Cl5Xp6TV"
      },
      "source": [
        "3) Quais são os usuários que não fizeram nenhuma compra?"
      ]
    },
    {
      "cell_type": "code",
      "execution_count": 33,
      "metadata": {
        "id": "POtsi6dPq9-K",
        "colab": {
          "base_uri": "https://localhost:8080/"
        },
        "outputId": "0713ca4b-9542-4cdf-af86-5bfe55cc3b1e"
      },
      "outputs": [
        {
          "output_type": "stream",
          "name": "stdout",
          "text": [
            "+-----------+\n",
            "|cod_usuario|\n",
            "+-----------+\n",
            "|5098       |\n",
            "|5229       |\n",
            "|5482       |\n",
            "|5504       |\n",
            "|5614       |\n",
            "|5923       |\n",
            "|6985       |\n",
            "|7901       |\n",
            "|9980       |\n",
            "|10080      |\n",
            "|10152      |\n",
            "|10170      |\n",
            "|10929      |\n",
            "|11002      |\n",
            "|11546      |\n",
            "|12298      |\n",
            "|12354      |\n",
            "|13117      |\n",
            "|13476      |\n",
            "|14486      |\n",
            "|15198      |\n",
            "|15313      |\n",
            "|15784      |\n",
            "|16570      |\n",
            "|17530      |\n",
            "|17779      |\n",
            "|18028      |\n",
            "|18034      |\n",
            "|18166      |\n",
            "|18366      |\n",
            "+-----------+\n",
            "only showing top 30 rows\n",
            "\n"
          ]
        }
      ],
      "source": [
        "q(\"\"\"\n",
        "SELECT\n",
        "  usuarios.cod_usuario\n",
        "FROM usuarios\n",
        "LEFT JOIN vendas ON usuarios.cod_usuario = vendas.cod_usuario\n",
        "WHERE vendas.quantidade IS NULL\n",
        "\"\"\")\n"
      ]
    },
    {
      "cell_type": "markdown",
      "metadata": {
        "id": "JMfPmlvJq-vq"
      },
      "source": [
        "4) Qual é o ticket médio (média de valor gasto) e o número total de usuários que fizeram pelo menos uma compra por faixa etária?"
      ]
    },
    {
      "cell_type": "code",
      "execution_count": 34,
      "metadata": {
        "id": "2wmU9pLbrMg3",
        "colab": {
          "base_uri": "https://localhost:8080/"
        },
        "outputId": "336482b4-576f-42ae-f209-6cc02f06a6f8"
      },
      "outputs": [
        {
          "output_type": "stream",
          "name": "stdout",
          "text": [
            "+------------------+------------+--------------+\n",
            "|faixa_etaria      |ticket_medio|total_usuarios|\n",
            "+------------------+------------+--------------+\n",
            "|Entre 10 a 15 anos|54610.77    |7             |\n",
            "|Entre 16 a 21 anos|57845.21    |11            |\n",
            "|Entre 22 a 27 anos|78099.35    |10            |\n",
            "|Entre 28 a 36 anos|51227.79    |9             |\n",
            "|Entre 37 a 49 anos|117090.33   |6             |\n",
            "|Entre 50 a 61 anos|72329.84    |12            |\n",
            "|Entre 62 a 70 anos|55784.63    |7             |\n",
            "|Mais de 70 anos   |81947.5     |4             |\n",
            "+------------------+------------+--------------+\n",
            "\n"
          ]
        }
      ],
      "source": [
        "q(\"\"\"\n",
        "WITH total_gasto_por_usuario AS (\n",
        "    SELECT\n",
        "     vendas.cod_usuario\n",
        "    ,SUM(vendas.valor) AS total_gasto\n",
        "    FROM vendas\n",
        "    GROUP BY vendas.cod_usuario\n",
        ")\n",
        "SELECT\n",
        "usuarios.faixa_etaria\n",
        ",ROUND(AVG(total_gasto_por_usuario.total_gasto), 2) AS ticket_medio\n",
        ",COUNT(DISTINCT usuarios.cod_usuario) AS total_usuarios\n",
        "FROM total_gasto_por_usuario\n",
        "JOIN usuarios ON total_gasto_por_usuario.cod_usuario = usuarios.cod_usuario\n",
        "GROUP BY usuarios.faixa_etaria\n",
        "ORDER BY usuarios.faixa_etaria\n",
        "\n",
        "\"\"\")\n"
      ]
    },
    {
      "cell_type": "code",
      "execution_count": 35,
      "metadata": {
        "id": "3zzx4TnTJ0ck"
      },
      "outputs": [],
      "source": [
        "spark.stop()"
      ]
    },
    {
      "cell_type": "markdown",
      "metadata": {
        "id": "YsxnKyHTr9ZQ"
      },
      "source": [
        "# PySpark"
      ]
    },
    {
      "cell_type": "markdown",
      "metadata": {
        "id": "IHTFrsFRKENk"
      },
      "source": [
        "**setup**:"
      ]
    },
    {
      "cell_type": "code",
      "execution_count": 36,
      "metadata": {
        "id": "ExrbmwGPJ74k",
        "colab": {
          "base_uri": "https://localhost:8080/"
        },
        "outputId": "7d365139-06f4-429e-b21e-3ebc53f4d6fe"
      },
      "outputs": [
        {
          "output_type": "stream",
          "name": "stderr",
          "text": [
            "mkdir: cannot create directory ‘bases_teste’: File exists\n",
            "  % Total    % Received % Xferd  Average Speed   Time    Time     Time  Current\n",
            "                                 Dload  Upload   Total   Spent    Left  Speed\n",
            "\r  0     0    0     0    0     0      0      0 --:--:-- --:--:-- --:--:--     0\r100  1039  100  1039    0     0   3535      0 --:--:-- --:--:-- --:--:--  3546\n",
            "  % Total    % Received % Xferd  Average Speed   Time    Time     Time  Current\n",
            "                                 Dload  Upload   Total   Spent    Left  Speed\n",
            "\r  0     0    0     0    0     0      0      0 --:--:-- --:--:-- --:--:--     0\r100  533k  100  533k    0     0  1275k      0 --:--:-- --:--:-- --:--:-- 1277k\n",
            "  % Total    % Received % Xferd  Average Speed   Time    Time     Time  Current\n",
            "                                 Dload  Upload   Total   Spent    Left  Speed\n",
            "\r  0     0    0     0    0     0      0      0 --:--:-- --:--:-- --:--:--     0\r  0     0    0     0    0     0      0      0 --:--:-- --:--:-- --:--:--     0\r100  211k  100  211k    0     0   713k      0 --:--:-- --:--:-- --:--:--  713k\n"
          ]
        }
      ],
      "source": [
        "%%bash\n",
        "mkdir bases_teste\n",
        "curl https://raw.githubusercontent.com/A3Data/bases_testes/main/bases_teste/produtos.csv -o bases_teste/produtos.csv\n",
        "curl https://raw.githubusercontent.com/A3Data/bases_testes/main/bases_teste/vendas.csv -o bases_teste/vendas.csv\n",
        "curl https://raw.githubusercontent.com/A3Data/bases_testes/main/bases_teste/usuarios.csv -o bases_teste/usuarios.csv"
      ]
    },
    {
      "cell_type": "code",
      "execution_count": 37,
      "metadata": {
        "id": "1iMZB37mJ74k"
      },
      "outputs": [],
      "source": [
        "# Setup Spark Session\n",
        "from pyspark.sql import SparkSession\n",
        "spark = SparkSession.builder.appName(\"Atividade_Spark_DataFrames\").getOrCreate()"
      ]
    },
    {
      "cell_type": "code",
      "execution_count": 38,
      "metadata": {
        "id": "5wjdDd3tJ74l"
      },
      "outputs": [],
      "source": [
        "def cria_tabela(path, nome_tabela):\n",
        "    df = spark.read.csv(path, inferSchema=True, header=True)\n",
        "    df.createOrReplaceTempView(nome_tabela)\n",
        "    return df\n",
        "\n",
        "usuarios = cria_tabela(\"bases_teste/usuarios.csv\", \"usuarios\")\n",
        "produtos = cria_tabela(\"bases_teste/produtos.csv\", \"produtos\")\n",
        "vendas = cria_tabela(\"bases_teste/vendas.csv\", \"vendas\")"
      ]
    },
    {
      "cell_type": "code",
      "source": [
        "#amostras\n",
        "usuarios.show(3, truncate = False)\n",
        "produtos.show(3, truncate = False)\n",
        "vendas.show(3, truncate = False)"
      ],
      "metadata": {
        "colab": {
          "base_uri": "https://localhost:8080/"
        },
        "id": "X6b03JpNYwJH",
        "outputId": "2e469023-d251-4587-9746-364b9d5e5a9c"
      },
      "execution_count": 39,
      "outputs": [
        {
          "output_type": "stream",
          "name": "stdout",
          "text": [
            "+-----------+-------------+------------------+---------+-------------------+\n",
            "|cod_usuario|data_cadastro|faixa_etaria      |cidade   |estado             |\n",
            "+-----------+-------------+------------------+---------+-------------------+\n",
            "|69         |2020-07-24   |Entre 16 a 21 anos|São Romão|Minas Gerais       |\n",
            "|176        |2021-03-19   |Entre 28 a 36 anos|Guanambi |Bahia              |\n",
            "|185        |2021-03-11   |Entre 16 a 21 anos|Martins  |Rio Grande do Norte|\n",
            "+-----------+-------------+------------------+---------+-------------------+\n",
            "only showing top 3 rows\n",
            "\n",
            "+-----------+---------------------------+-----------------+-------------+\n",
            "|cod_produto|nome_produto               |categoria_produto|valor_produto|\n",
            "+-----------+---------------------------+-----------------+-------------+\n",
            "|1          |Notebook Asus Intel Core i7|Tecnologia       |4590.9       |\n",
            "|2          |Bicicleta Caloi Aro 29     |Lazer            |1345.78      |\n",
            "|3          |Smartphone Samsung         |Tecnologia       |2049.5       |\n",
            "+-----------+---------------------------+-----------------+-------------+\n",
            "only showing top 3 rows\n",
            "\n",
            "+-----------+-----------+-----------+----------+-------+\n",
            "|cod_usuario|cod_produto|data_compra|quantidade|valor  |\n",
            "+-----------+-----------+-----------+----------+-------+\n",
            "|927        |10         |2020-10-19 |4         |2799.6 |\n",
            "|1544       |10         |2021-03-28 |2         |1399.8 |\n",
            "|2833       |2          |2020-09-13 |20        |26915.6|\n",
            "+-----------+-----------+-----------+----------+-------+\n",
            "only showing top 3 rows\n",
            "\n"
          ]
        }
      ]
    },
    {
      "cell_type": "markdown",
      "metadata": {
        "id": "DHCtQfrvKpWz"
      },
      "source": [
        "Responda às perguntas a seguir utilizando **Spark DATAFRAMES**.\n",
        "\n",
        "1) Qual foi o total de compras realizadas, o total de itens comprados e a receita total obtida em todo o período analisado?"
      ]
    },
    {
      "cell_type": "code",
      "execution_count": 42,
      "metadata": {
        "id": "0CcQqjM3r-mq",
        "colab": {
          "base_uri": "https://localhost:8080/"
        },
        "outputId": "e583becf-a5d2-455a-8cb8-129b8bc327aa"
      },
      "outputs": [
        {
          "output_type": "stream",
          "name": "stdout",
          "text": [
            "+-------------+-----------+--------------+\n",
            "|Total_Compras|Total_Itens|Receita_Total |\n",
            "+-------------+-----------+--------------+\n",
            "|20000        |209149     |215,849,001.66|\n",
            "+-------------+-----------+--------------+\n",
            "\n"
          ]
        }
      ],
      "source": [
        "from pyspark.sql import functions as F\n",
        "\n",
        "# Cálculo do total de compras, total de itens, e receita total:\n",
        "resultado = vendas.agg(\n",
        "    F.count(F.lit(1)).alias(\"Total_Compras\"),\n",
        "    F.sum(\"quantidade\").alias(\"Total_Itens\"),\n",
        "    F.format_number(F.sum(\"valor\"), 2).alias(\"Receita_Total\")\n",
        ")\n",
        "\n",
        "resultado.show(truncate = False)"
      ]
    },
    {
      "cell_type": "markdown",
      "metadata": {
        "id": "uVV0rIT8KzZ2"
      },
      "source": [
        "2) Quais são os 3 produtos mais comprados dos estados da região Sul e Sudeste, a quantidade de itens comprados, o valor total pago e a média de preço paga?"
      ]
    },
    {
      "cell_type": "code",
      "execution_count": 45,
      "metadata": {
        "id": "JkX1ByRdLa5V",
        "colab": {
          "base_uri": "https://localhost:8080/"
        },
        "outputId": "24ab1228-3e56-476e-c90d-94a19dd5c59e"
      },
      "outputs": [
        {
          "output_type": "stream",
          "name": "stdout",
          "text": [
            "+---------------------------+-----------+-----------+-----------+----+\n",
            "|nome_produto               |Total_Itens|Valor_Total|Preco_Medio|rank|\n",
            "+---------------------------+-----------+-----------+-----------+----+\n",
            "|Alcool em Gel 70% Johnson  |280        |1,397.20   |4.99       |1   |\n",
            "|Escrivaninha em L          |141        |61,617.00  |437.00     |2   |\n",
            "|Notebook Asus Intel Core i7|134        |615,180.60 |4,590.90   |3   |\n",
            "+---------------------------+-----------+-----------+-----------+----+\n",
            "\n"
          ]
        }
      ],
      "source": [
        "from pyspark.sql import functions as F\n",
        "from pyspark.sql.window import Window\n",
        "\n",
        "# Listagem de Estados do Sul e Sudeste:\n",
        "estados_sul_sudeste = [\"Rio Grande do Sul\", \"Santa Catarina\", \"Paraná\",\n",
        "                       \"São Paulo\", \"Rio de Janeiro\", \"Espírito Santo\", \"Minas Gerais\"]\n",
        "\n",
        "# Condição do JOIN entre as tabelas vendas , usuarios e produtos:\n",
        "condicao_join = [vendas.cod_usuario == usuarios.cod_usuario, vendas.cod_produto == produtos.cod_produto]\n",
        "df_join = vendas.join(usuarios, condicao_join[0]).join(produtos, condicao_join[1])\n",
        "\n",
        "# Aplicando as condições de retorno solicitadas e filtradas por estado\n",
        "df_agregacao = df_join.filter(usuarios.estado.isin(estados_sul_sudeste)) \\\n",
        "    .groupBy(produtos.nome_produto) \\\n",
        "    .agg(\n",
        "        F.sum(\"quantidade\").alias(\"Total_Itens\"),\n",
        "        F.format_number(F.sum(\"valor\"), 2).alias(\"Valor_Total\"),\n",
        "        F.format_number(F.sum(\"valor\") / F.sum(\"quantidade\"), 2).alias(\"Preco_Medio\")\n",
        "    )\n",
        "\n",
        "# Aplicando o conceito de window functions para rankeamento\n",
        "windowSpec = Window.partitionBy().orderBy(F.desc(\"Total_Itens\"))\n",
        "\n",
        "# Aplicando a função de window functions e selecionando os 3 primeiros\n",
        "top_produtos = df_agregacao.withColumn(\"rank\", F.row_number().over(windowSpec)) \\\n",
        "    .filter(F.col(\"rank\") <= 3)\n",
        "\n",
        "top_produtos.show(truncate = False)\n"
      ]
    },
    {
      "cell_type": "markdown",
      "metadata": {
        "id": "0CaldadHLbgm"
      },
      "source": [
        "3) Para cada produto, quantos usuários fizeram pelo menos uma compra desse produto e qual é o valor mínimo e máximo pago por eles?"
      ]
    },
    {
      "cell_type": "code",
      "execution_count": 52,
      "metadata": {
        "id": "qgwOymWOLqAB",
        "colab": {
          "base_uri": "https://localhost:8080/"
        },
        "outputId": "4aa4b0d0-cf78-4bf7-e49b-28d4a398df3f"
      },
      "outputs": [
        {
          "output_type": "stream",
          "name": "stdout",
          "text": [
            "+-----------------------------------+--------------+------------+------------+\n",
            "|nome_produto                       |Total_Usuarios|Valor_minimo|Valor_Maximo|\n",
            "+-----------------------------------+--------------+------------+------------+\n",
            "|Bicicleta Caloi Aro 29             |775           |1,345.78    |26,915.60   |\n",
            "|Cafeteira Nespresso                |832           |219.57      |4,391.40    |\n",
            "|Notebook Asus Intel Core i7        |825           |4,590.90    |91,818.00   |\n",
            "|Aparelho de Barbear OneBlade Philco|818           |129.90      |2,598.00    |\n",
            "|SPA Intel 700 L                    |839           |5,999.10    |119,982.00  |\n",
            "|Jogo Mortal Kombat 11 PS4          |847           |49.90       |998.00      |\n",
            "|Umidificador de Ar Cadence         |788           |77.50       |1,550.00    |\n",
            "|Blusa Lacoste                      |812           |138.99      |2,779.80    |\n",
            "|Alcool em Gel 70% Johnson          |837           |4.99        |99.80       |\n",
            "|Monitor LG 19 pol curvado          |842           |584.10      |11,682.00   |\n",
            "|Escrivaninha em L                  |860           |437.00      |8,740.00    |\n",
            "|Lenço umedecido Turma da Monica    |880           |7.90        |158.00      |\n",
            "|Kit 3 barras de chocolate Alpino   |809           |9.90        |198.00      |\n",
            "|Ar-condicionado 9500 BTUs LG       |863           |1,300.49    |26,009.80   |\n",
            "|Mochila Targus                     |833           |58.90       |1,178.00    |\n",
            "|Cadeira Gamer Xpress               |838           |699.90      |13,998.00   |\n",
            "|Biscoito Chocolicia Chocolate      |832           |5.00        |100.00      |\n",
            "|SmartTV Samsung 4K 55 polegadas    |856           |2,499.90    |49,998.00   |\n",
            "|Smartphone Samsung                 |823           |2,049.50    |40,990.00   |\n",
            "|Sofa 3 lugares                     |845           |899.90      |17,998.00   |\n",
            "+-----------------------------------+--------------+------------+------------+\n",
            "only showing top 20 rows\n",
            "\n"
          ]
        }
      ],
      "source": [
        "from pyspark.sql import functions as F\n",
        "\n",
        "# dataframe com JOIN entre as tabelas vendas e produtos\n",
        "df_join = vendas.join(produtos, vendas.cod_produto == produtos.cod_produto)\n",
        "\n",
        "# Calculando o número de usuários distintos, valor mínimo e máximo pago por produto\n",
        "resultado = df_join.groupBy(produtos.nome_produto) \\\n",
        "                   .agg(\n",
        "                       F.countDistinct(vendas.cod_usuario).alias(\"Total_Usuarios\"),\n",
        "                       F.format_number(F.min(vendas.valor),2).alias(\"Valor_minimo\"),\n",
        "                       F.format_number(F.max(vendas.valor),2).alias(\"Valor_Maximo\")\n",
        "                   )\n",
        "\n",
        "resultado.show(truncate = False)\n"
      ]
    },
    {
      "cell_type": "markdown",
      "metadata": {
        "id": "QUM8hfarLqy9"
      },
      "source": [
        "4) Aplique um desconto de 10% em todas as vendas dos usuários que fizeram pelo menos 3 compras de produtos na mesma categoria, a partir da 4ª compra realizada. Exiba apenas os usuários que terão o desconto aplicado, mantendo todas as compras, o valor original e o valor com o desconto aplicado."
      ]
    },
    {
      "cell_type": "code",
      "execution_count": 57,
      "metadata": {
        "id": "YEYCoeHlMGHl",
        "colab": {
          "base_uri": "https://localhost:8080/"
        },
        "outputId": "ffe4c876-5e8b-4e51-faf4-95c89f9a5535"
      },
      "outputs": [
        {
          "output_type": "stream",
          "name": "stdout",
          "text": [
            "+-----------+-----------+-----------+----------+---------+-------------------------------+----------------------+-------------+---------------------+------------------+------------------+\n",
            "|cod_produto|cod_usuario|data_compra|quantidade|valor    |nome_produto                   |categoria_produto     |valor_produto|num_compras_categoria|qualifica_desconto|valor_com_desconto|\n",
            "+-----------+-----------+-----------+----------+---------+-------------------------------+----------------------+-------------+---------------------+------------------+------------------+\n",
            "|1          |3          |2021-07-20 |8         |36,727.20|Notebook Asus Intel Core i7    |Tecnologia            |4,590.90     |4                    |1                 |33,054.48         |\n",
            "|8          |6          |2021-03-23 |2         |439.14   |Cafeteira Nespresso            |Eletrodomesticos      |219.57       |4                    |1                 |395.23            |\n",
            "|1          |16         |2021-02-16 |9         |41,318.10|Notebook Asus Intel Core i7    |Tecnologia            |4,590.90     |4                    |1                 |37,186.29         |\n",
            "|17         |16         |2021-05-23 |8         |4,672.80 |Monitor LG 19 pol curvado      |Tecnologia            |584.10       |5                    |1                 |4,205.52          |\n",
            "|18         |17         |2021-07-21 |12        |94.80    |Lenço umedecido Turma da Monica|Produtos de limpeza   |7.90         |4                    |1                 |85.32             |\n",
            "|18         |17         |2021-07-30 |15        |118.50   |Lenço umedecido Turma da Monica|Produtos de limpeza   |7.90         |5                    |1                 |106.65            |\n",
            "|7          |23         |2020-07-08 |19        |24,709.31|Ar-condicionado 9500 BTUs LG   |Casa e bem-estar      |1,300.49     |4                    |1                 |22,238.38         |\n",
            "|6          |34         |2021-07-28 |3         |2,699.70 |Sofa 3 lugares                 |Casa e bem-estar      |899.90       |4                    |1                 |2,429.73          |\n",
            "|6          |37         |2021-07-10 |1         |899.90   |Sofa 3 lugares                 |Casa e bem-estar      |899.90       |4                    |1                 |809.91            |\n",
            "|1          |39         |2020-11-17 |11        |50,499.90|Notebook Asus Intel Core i7    |Tecnologia            |4,590.90     |4                    |1                 |45,449.91         |\n",
            "|15         |41         |2020-08-30 |8         |39.92    |Alcool em Gel 70% Johnson      |Produtos de limpeza   |4.99         |4                    |1                 |35.93             |\n",
            "|7          |87         |2021-07-27 |15        |19,507.35|Ar-condicionado 9500 BTUs LG   |Casa e bem-estar      |1,300.49     |4                    |1                 |17,556.61         |\n",
            "|18         |101        |2021-06-11 |1         |7.90     |Lenço umedecido Turma da Monica|Produtos de limpeza   |7.90         |4                    |1                 |7.11              |\n",
            "|5          |106        |2020-10-16 |15        |6,555.00 |Escrivaninha em L              |Material de escritorio|437.00       |4                    |1                 |5,899.50          |\n",
            "|16         |123        |2021-07-20 |2         |10.00    |Biscoito Chocolicia Chocolate  |Alimentos             |5.00         |4                    |1                 |9.00              |\n",
            "|6          |132        |2020-11-17 |18        |16,198.20|Sofa 3 lugares                 |Casa e bem-estar      |899.90       |4                    |1                 |14,578.38         |\n",
            "|17         |132        |2021-01-16 |17        |9,929.70 |Monitor LG 19 pol curvado      |Tecnologia            |584.10       |4                    |1                 |8,936.73          |\n",
            "|18         |166        |2021-07-27 |20        |158.00   |Lenço umedecido Turma da Monica|Produtos de limpeza   |7.90         |4                    |1                 |142.20            |\n",
            "|21         |184        |2021-07-28 |3         |17,997.30|SPA Intel 700 L                |Lazer                 |5,999.10     |4                    |1                 |16,197.57         |\n",
            "|15         |203        |2021-06-10 |15        |74.85    |Alcool em Gel 70% Johnson      |Produtos de limpeza   |4.99         |4                    |1                 |67.36             |\n",
            "+-----------+-----------+-----------+----------+---------+-------------------------------+----------------------+-------------+---------------------+------------------+------------------+\n",
            "only showing top 20 rows\n",
            "\n"
          ]
        }
      ],
      "source": [
        "from pyspark.sql import Window\n",
        "from pyspark.sql.functions import col, when, count, lit, format_number\n",
        "\n",
        "# INNER JOIN da tabela vendas com a tabela produtos:\n",
        "df_join = vendas.join(produtos, \"cod_produto\")\n",
        "\n",
        "# Definição do particionamento por window functions, por usuário e categoria\n",
        "windowSpec = Window.partitionBy(\"cod_usuario\", \"categoria_produto\").orderBy(\"data_compra\")\n",
        "\n",
        "# Contando o número de compras por usuário em cada categoria e marcando compras que se qualificam para desconto\n",
        "df_compras = df_join.withColumn(\"num_compras_categoria\", count(lit(1)).over(windowSpec)) \\\n",
        "                    .withColumn(\"qualifica_desconto\", when(col(\"num_compras_categoria\") >= 4, 1).otherwise(0))\n",
        "\n",
        "# Calculando o valor com desconto e formatando as colunas númericas:\n",
        "df_com_desconto = df_compras.withColumn(\"valor_com_desconto\", when(col(\"qualifica_desconto\") == 1, col(\"valor\") * 0.9).otherwise(col(\"valor\"))) \\\n",
        "                            .withColumn(\"valor\", format_number(col(\"valor\"), 2)) \\\n",
        "                            .withColumn(\"valor_produto\", format_number(col(\"valor_produto\"), 2)) \\\n",
        "                            .withColumn(\"valor_com_desconto\", format_number(col(\"valor_com_desconto\"), 2))\n",
        "\n",
        "# Filtrando para exibir apenas os usuários que se qualificados para o desconto\n",
        "df_resultado = df_com_desconto.filter(col(\"qualifica_desconto\") == 1)\n",
        "\n",
        "df_resultado.show(truncate=False)\n",
        "#Fim dos desafios por hora"
      ]
    },
    {
      "cell_type": "markdown",
      "metadata": {
        "id": "ndROlUqgMHxn"
      },
      "source": [
        "# FIM!"
      ]
    }
  ],
  "metadata": {
    "colab": {
      "provenance": []
    },
    "kernelspec": {
      "display_name": "Python 3",
      "name": "python3"
    },
    "language_info": {
      "name": "python"
    }
  },
  "nbformat": 4,
  "nbformat_minor": 0
}